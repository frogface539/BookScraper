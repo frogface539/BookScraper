{
 "cells": [
  {
   "cell_type": "code",
   "execution_count": 61,
   "id": "852912ec-6a14-469e-bff7-ac1d31ba731e",
   "metadata": {},
   "outputs": [],
   "source": [
    "import requests \n",
    "import pandas as pd\n",
    "from bs4 import BeautifulSoup\n",
    "from tqdm import tqdm"
   ]
  },
  {
   "cell_type": "code",
   "execution_count": 2,
   "id": "7166d726-1c31-4d34-8628-7c8f59a0da43",
   "metadata": {},
   "outputs": [],
   "source": [
    "link = 'https://books.toscrape.com/catalogue/page-1.html'"
   ]
  },
  {
   "cell_type": "code",
   "execution_count": 4,
   "id": "a91f0ba5-8277-4e3e-91dc-9f6d0eb1aa07",
   "metadata": {},
   "outputs": [],
   "source": [
    "res = requests.get(link)"
   ]
  },
  {
   "cell_type": "code",
   "execution_count": 5,
   "id": "79b77682-f323-4f27-b0aa-312794e8800b",
   "metadata": {},
   "outputs": [],
   "source": [
    "html = res.text"
   ]
  },
  {
   "cell_type": "code",
   "execution_count": 72,
   "id": "e3335b6e-49a0-4d59-8edd-2949bae08785",
   "metadata": {},
   "outputs": [],
   "source": [
    "soup = BeautifulSoup(html , \"html.parser\")"
   ]
  },
  {
   "cell_type": "markdown",
   "id": "2dc6788e-619a-4194-b75b-ea82928c10a2",
   "metadata": {},
   "source": [
    "## Fetching Data From one page only"
   ]
  },
  {
   "cell_type": "code",
   "execution_count": 49,
   "id": "a70bfde8-21df-4a9f-921a-751079b06eb5",
   "metadata": {
    "scrolled": true
   },
   "outputs": [],
   "source": [
    "# soup.find_all(\"li\",class_ =  'col-xs-6 col-sm-4 col-md-3 col-lg-3')"
   ]
  },
  {
   "cell_type": "code",
   "execution_count": 67,
   "id": "6020d17c-6d95-43f3-a731-889c10578502",
   "metadata": {
    "scrolled": true
   },
   "outputs": [],
   "source": [
    "# data = []\n",
    "# for i in soup.find_all(\"li\",class_ =  'col-xs-6 col-sm-4 col-md-3 col-lg-3'):\n",
    "#     bookLink  = \"https://books.toscrape.com/catalogue/\" + i.find_all('a')[-1].get('href')\n",
    "#     title = i.find_all('a')[-1].get('title')\n",
    "#     rating = i.find('p').get('class')[-1]\n",
    "#     imgLink = \"https://books.toscrape.com/\"+ i.find('img').get('src')\n",
    "#     price = i.find('p' , class_ = \"price_color\").text[1:]\n",
    "#     stock = i.find('p' , class_ = \"instock availability\").text.strip()\n",
    "#     data.append([title , price , rating , stock , bookLink , imgLink])\n",
    "\n",
    "# df = pd.DataFrame(data)"
   ]
  },
  {
   "cell_type": "code",
   "execution_count": 48,
   "id": "574594c8-e6e4-44c3-8559-8b608553fc3c",
   "metadata": {
    "scrolled": true
   },
   "outputs": [],
   "source": [
    "# df"
   ]
  },
  {
   "cell_type": "markdown",
   "id": "f650a119-d114-4a93-bc77-3031f7bd8999",
   "metadata": {},
   "source": [
    "## Fetching Data From all Pages"
   ]
  },
  {
   "cell_type": "code",
   "execution_count": 73,
   "id": "12241789-082d-4918-8b26-b94532bb44ce",
   "metadata": {},
   "outputs": [
    {
     "name": "stderr",
     "output_type": "stream",
     "text": [
      "\n",
      "Scraping:   0%|                                                                              | 0/50 [00:00<?, ?page/s]\u001b[A\n",
      "Scraping:   2%|█▍                                                                    | 1/50 [00:01<00:51,  1.05s/page]\u001b[A\n",
      "Scraping:   4%|██▊                                                                   | 2/50 [00:02<00:50,  1.06s/page]\u001b[A\n",
      "Scraping:   6%|████▏                                                                 | 3/50 [00:03<00:47,  1.02s/page]\u001b[A\n",
      "Scraping:   8%|█████▌                                                                | 4/50 [00:04<00:46,  1.01s/page]\u001b[A\n",
      "Scraping:  10%|███████                                                               | 5/50 [00:05<00:45,  1.02s/page]\u001b[A\n",
      "Scraping:  12%|████████▍                                                             | 6/50 [00:06<00:44,  1.02s/page]\u001b[A\n",
      "Scraping:  14%|█████████▊                                                            | 7/50 [00:07<00:43,  1.01s/page]\u001b[A\n",
      "Scraping:  16%|███████████▏                                                          | 8/50 [00:08<00:43,  1.03s/page]\u001b[A\n",
      "Scraping:  18%|████████████▌                                                         | 9/50 [00:09<00:41,  1.01s/page]\u001b[A\n",
      "Scraping:  20%|█████████████▊                                                       | 10/50 [00:10<00:43,  1.08s/page]\u001b[A\n",
      "Scraping:  22%|███████████████▏                                                     | 11/50 [00:11<00:40,  1.05s/page]\u001b[A\n",
      "Scraping:  24%|████████████████▌                                                    | 12/50 [00:12<00:39,  1.05s/page]\u001b[A\n",
      "Scraping:  26%|█████████████████▉                                                   | 13/50 [00:13<00:38,  1.05s/page]\u001b[A\n",
      "Scraping:  28%|███████████████████▎                                                 | 14/50 [00:14<00:38,  1.06s/page]\u001b[A\n",
      "Scraping:  30%|████████████████████▋                                                | 15/50 [00:15<00:36,  1.04s/page]\u001b[A\n",
      "Scraping:  32%|██████████████████████                                               | 16/50 [00:16<00:35,  1.03s/page]\u001b[A\n",
      "Scraping:  34%|███████████████████████▍                                             | 17/50 [00:17<00:33,  1.02s/page]\u001b[A\n",
      "Scraping:  36%|████████████████████████▊                                            | 18/50 [00:18<00:33,  1.04s/page]\u001b[A\n",
      "Scraping:  38%|██████████████████████████▏                                          | 19/50 [00:19<00:32,  1.03s/page]\u001b[A\n",
      "Scraping:  40%|███████████████████████████▌                                         | 20/50 [00:20<00:31,  1.03s/page]\u001b[A\n",
      "Scraping:  42%|████████████████████████████▉                                        | 21/50 [00:21<00:29,  1.02s/page]\u001b[A\n",
      "Scraping:  44%|██████████████████████████████▎                                      | 22/50 [00:22<00:28,  1.01s/page]\u001b[A\n",
      "Scraping:  46%|███████████████████████████████▋                                     | 23/50 [00:23<00:27,  1.00s/page]\u001b[A\n",
      "Scraping:  48%|█████████████████████████████████                                    | 24/50 [00:24<00:26,  1.00s/page]\u001b[A\n",
      "Scraping:  50%|██████████████████████████████████▌                                  | 25/50 [00:25<00:24,  1.00page/s]\u001b[A\n",
      "Scraping:  52%|███████████████████████████████████▉                                 | 26/50 [00:26<00:23,  1.00page/s]\u001b[A\n",
      "Scraping:  54%|█████████████████████████████████████▎                               | 27/50 [00:27<00:23,  1.02s/page]\u001b[A\n",
      "Scraping:  56%|██████████████████████████████████████▋                              | 28/50 [00:28<00:22,  1.01s/page]\u001b[A\n",
      "Scraping:  58%|████████████████████████████████████████                             | 29/50 [00:29<00:21,  1.02s/page]\u001b[A\n",
      "Scraping:  60%|█████████████████████████████████████████▍                           | 30/50 [00:30<00:20,  1.02s/page]\u001b[A\n",
      "Scraping:  62%|██████████████████████████████████████████▊                          | 31/50 [00:31<00:19,  1.05s/page]\u001b[A\n",
      "Scraping:  64%|████████████████████████████████████████████▏                        | 32/50 [00:32<00:19,  1.06s/page]\u001b[A\n",
      "Scraping:  66%|█████████████████████████████████████████████▌                       | 33/50 [00:34<00:17,  1.06s/page]\u001b[A\n",
      "Scraping:  68%|██████████████████████████████████████████████▉                      | 34/50 [00:35<00:17,  1.06s/page]\u001b[A\n",
      "Scraping:  70%|████████████████████████████████████████████████▎                    | 35/50 [00:36<00:16,  1.08s/page]\u001b[A\n",
      "Scraping:  72%|█████████████████████████████████████████████████▋                   | 36/50 [00:37<00:14,  1.05s/page]\u001b[A\n",
      "Scraping:  74%|███████████████████████████████████████████████████                  | 37/50 [00:38<00:13,  1.05s/page]\u001b[A\n",
      "Scraping:  76%|████████████████████████████████████████████████████▍                | 38/50 [00:39<00:12,  1.04s/page]\u001b[A\n",
      "Scraping:  78%|█████████████████████████████████████████████████████▊               | 39/50 [00:40<00:11,  1.02s/page]\u001b[A\n",
      "Scraping:  80%|███████████████████████████████████████████████████████▏             | 40/50 [00:41<00:10,  1.00s/page]\u001b[A\n",
      "Scraping:  82%|████████████████████████████████████████████████████████▌            | 41/50 [00:42<00:09,  1.02s/page]\u001b[A\n",
      "Scraping:  84%|█████████████████████████████████████████████████████████▉           | 42/50 [00:43<00:08,  1.04s/page]\u001b[A\n",
      "Scraping:  86%|███████████████████████████████████████████████████████████▎         | 43/50 [00:44<00:07,  1.03s/page]\u001b[A\n",
      "Scraping:  88%|████████████████████████████████████████████████████████████▋        | 44/50 [00:45<00:06,  1.02s/page]\u001b[A\n",
      "Scraping:  90%|██████████████████████████████████████████████████████████████       | 45/50 [00:46<00:05,  1.03s/page]\u001b[A\n",
      "Scraping:  92%|███████████████████████████████████████████████████████████████▍     | 46/50 [00:47<00:04,  1.04s/page]\u001b[A\n",
      "Scraping:  94%|████████████████████████████████████████████████████████████████▊    | 47/50 [00:48<00:03,  1.03s/page]\u001b[A\n",
      "Scraping:  96%|██████████████████████████████████████████████████████████████████▏  | 48/50 [00:49<00:02,  1.05s/page]\u001b[A\n",
      "Scraping:  98%|███████████████████████████████████████████████████████████████████▌ | 49/50 [00:50<00:01,  1.04s/page]\u001b[A\n",
      "Scraping: 100%|█████████████████████████████████████████████████████████████████████| 50/50 [00:51<00:00,  1.03s/page]\u001b[A\n"
     ]
    }
   ],
   "source": [
    "data = []\n",
    "\n",
    "for i in tqdm(range(1, 51), desc=\"Scraping\", unit=\"page\"):\n",
    "    link = f'https://books.toscrape.com/catalogue/page-{i}.html'\n",
    "    res = requests.get(link)\n",
    "    \n",
    "    if res.status_code != 200:\n",
    "        print(f\"Failed to fetch {link}\")\n",
    "        continue\n",
    "    \n",
    "    sp = BeautifulSoup(res.text, 'html.parser')\n",
    "\n",
    "    for sp in sp.find_all(\"li\", class_=\"col-xs-6 col-sm-4 col-md-3 col-lg-3\"):\n",
    "        bookLink = \"https://books.toscrape.com/catalogue/\" + sp.find_all('a')[-1].get('href').replace('../', '')\n",
    "        title = sp.find_all('a')[-1].get('title')\n",
    "        rating = sp.find('p', class_='star-rating')\n",
    "        rating = rating.get('class')[-1] if rating else 'Unknown'\n",
    "        imgLink = \"https://books.toscrape.com/\" + sp.find('img').get('src').replace('../', '')\n",
    "        price = sp.find('p', class_=\"price_color\").text[1:]\n",
    "        stock = sp.find('p', class_=\"instock availability\").text.strip()\n",
    "\n",
    "        data.append([title, price, rating, stock, bookLink, imgLink])"
   ]
  },
  {
   "cell_type": "code",
   "execution_count": 69,
   "id": "79ae7aa7-6b09-40dc-a428-2200f8eec79f",
   "metadata": {},
   "outputs": [],
   "source": [
    "df = pd.DataFrame(data)"
   ]
  },
  {
   "cell_type": "code",
   "execution_count": 71,
   "id": "e39b235d-7ca9-4488-9d8b-7d4d056901f3",
   "metadata": {},
   "outputs": [],
   "source": [
    "df.to_csv(\"Books.csv\")"
   ]
  },
  {
   "cell_type": "code",
   "execution_count": null,
   "id": "439f7b03-964a-4c91-b453-a0f1d4559d50",
   "metadata": {},
   "outputs": [],
   "source": []
  }
 ],
 "metadata": {
  "kernelspec": {
   "display_name": "Python 3 (ipykernel)",
   "language": "python",
   "name": "python3"
  },
  "language_info": {
   "codemirror_mode": {
    "name": "ipython",
    "version": 3
   },
   "file_extension": ".py",
   "mimetype": "text/x-python",
   "name": "python",
   "nbconvert_exporter": "python",
   "pygments_lexer": "ipython3",
   "version": "3.12.7"
  }
 },
 "nbformat": 4,
 "nbformat_minor": 5
}
